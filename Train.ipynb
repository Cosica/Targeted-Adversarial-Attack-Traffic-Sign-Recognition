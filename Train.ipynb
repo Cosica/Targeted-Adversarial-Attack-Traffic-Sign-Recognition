{
 "cells": [
  {
   "cell_type": "code",
   "execution_count": null,
   "id": "e1e50d76",
   "metadata": {},
   "outputs": [],
   "source": [
    "import matplotlib.pyplot as plt\n",
    "import numpy as np\n",
    "import tensorflow\n",
    "from tensorflow.keras.models import Model\n",
    "import tensorflow.keras\n",
    "from tensorflow.keras.preprocessing.image import ImageDataGenerator\n",
    "from tensorflow.keras.models import model_from_json\n",
    "from tensorflow.keras.optimizers import Nadam\n",
    "from tensorflow.keras.models import Sequential\n",
    "from tensorflow.keras.layers import Activation\n",
    "from tensorflow.keras.layers import Dense"
   ]
  },
  {
   "cell_type": "code",
   "execution_count": null,
   "id": "93b9a706",
   "metadata": {},
   "outputs": [],
   "source": [
    "train_datagen = ImageDataGenerator(rotation_range=20,\n",
    "                                  width_shift_range=0.1,\n",
    "                                  height_shift_range=0.1,\n",
    "                                  shear_range=0.01,\n",
    "                                  zoom_range=[0.9, 1.25],\n",
    "                                  brightness_range=[0.5, 1.5],\n",
    "                                  preprocessing_function = tensorflow.keras.applications.mobilenet.preprocess_input)"
   ]
  },
  {
   "cell_type": "code",
   "execution_count": null,
   "id": "34e96935",
   "metadata": {},
   "outputs": [],
   "source": [
    "BATCH_SIZE = 30\n",
    "IMG_ROWS = 224\n",
    "IMG_COLS = 224\n",
    "NUM_CLASSES = 43\n",
    "EPOCHS = 10"
   ]
  },
  {
   "cell_type": "code",
   "execution_count": null,
   "id": "0e4edb1f",
   "metadata": {},
   "outputs": [],
   "source": [
    "train_path = r\"./input/Train\"\n",
    "\n",
    "train_generator = train_datagen.flow_from_directory(\n",
    "    directory=train_path,\n",
    "    target_size=(IMG_ROWS, IMG_COLS),\n",
    "    color_mode=\"rgb\",\n",
    "    batch_size=BATCH_SIZE,\n",
    "    class_mode=\"categorical\",\n",
    "    shuffle=True,\n",
    "    seed=42\n",
    ")"
   ]
  },
  {
   "cell_type": "code",
   "execution_count": null,
   "id": "56323d4a",
   "metadata": {},
   "outputs": [],
   "source": [
    "mobilenet_model = tensorflow.keras.applications.mobilenet.MobileNet()\n",
    "outputs = mobilenet_model.layers[-6].output \n",
    "predictions = Dense(43, activation='softmax')(outputs)\n",
    "model = Model(inputs=mobilenet_model.inputs, outputs=predictions)\n",
    "for layer in model.layers[:-23]:\n",
    "    layer.trainable = False\n",
    "model.summary()"
   ]
  },
  {
   "cell_type": "code",
   "execution_count": null,
   "id": "2c3bbc68",
   "metadata": {},
   "outputs": [],
   "source": [
    "model.compile(\n",
    "    optimizer=Nadam(lr=1e-3),\n",
    "    loss='categorical_crossentropy',\n",
    "    metrics=['accuracy']\n",
    ")"
   ]
  },
  {
   "cell_type": "code",
   "execution_count": null,
   "id": "17560d60",
   "metadata": {},
   "outputs": [],
   "source": [
    "STEP_SIZE_TRAIN=train_generator.n//train_generator.batch_size\n",
    "train_generator.reset()\n",
    "model.fit_generator(generator=train_generator,\n",
    "                    steps_per_epoch=STEP_SIZE_TRAIN,\n",
    "                    epochs=EPOCHS,\n",
    "                    verbose=1,\n",
    "                    workers=6\n",
    ")"
   ]
  },
  {
   "cell_type": "code",
   "execution_count": null,
   "id": "8b654049",
   "metadata": {},
   "outputs": [],
   "source": [
    "model.save_weights('./MobileNet_Weights.h5')\n",
    "with open('./MobileNet_Model.json', 'w') as f:\n",
    "    f.write(model.to_json())"
   ]
  },
  {
   "cell_type": "code",
   "execution_count": null,
   "id": "ed53ae17",
   "metadata": {},
   "outputs": [],
   "source": [
    "with open('MobileNet_Model.json', 'r') as f:\n",
    "    model = model_from_json(f.read())\n",
    "model.load_weights('MobileNet_Weights.h5')"
   ]
  }
 ],
 "metadata": {
  "kernelspec": {
   "display_name": "Python 3",
   "language": "python",
   "name": "python3"
  },
  "language_info": {
   "codemirror_mode": {
    "name": "ipython",
    "version": 3
   },
   "file_extension": ".py",
   "mimetype": "text/x-python",
   "name": "python",
   "nbconvert_exporter": "python",
   "pygments_lexer": "ipython3",
   "version": "3.6.13"
  }
 },
 "nbformat": 4,
 "nbformat_minor": 5
}
